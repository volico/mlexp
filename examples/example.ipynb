{
 "cells": [
  {
   "cell_type": "markdown",
   "metadata": {
    "pycharm": {
     "name": "#%% md\n"
    }
   },
   "source": [
    "# Loading packages"
   ]
  },
  {
   "cell_type": "code",
   "execution_count": 1,
   "metadata": {
    "scrolled": true,
    "pycharm": {
     "name": "#%%\n"
    }
   },
   "outputs": [],
   "source": [
    "import optuna\n",
    "from sklearn.datasets import load_diabetes\n",
    "from sklearn.metrics import mean_squared_error\n",
    "from sklearn.model_selection import KFold"
   ]
  },
  {
   "cell_type": "markdown",
   "metadata": {
    "pycharm": {
     "name": "#%% md\n"
    }
   },
   "source": [
    "# Constants"
   ]
  },
  {
   "cell_type": "code",
   "execution_count": 2,
   "metadata": {
    "scrolled": true,
    "pycharm": {
     "name": "#%%\n"
    }
   },
   "outputs": [],
   "source": [
    "random_state = 54321"
   ]
  },
  {
   "cell_type": "code",
   "execution_count": 3,
   "metadata": {
    "pycharm": {
     "name": "#%%\n"
    }
   },
   "outputs": [],
   "source": [
    "logging_server = 'mlflow'"
   ]
  },
  {
   "cell_type": "markdown",
   "metadata": {
    "pycharm": {
     "name": "#%% md\n"
    }
   },
   "source": [
    "# Sample data"
   ]
  },
  {
   "cell_type": "code",
   "execution_count": 4,
   "metadata": {
    "pycharm": {
     "name": "#%%\n"
    }
   },
   "outputs": [],
   "source": [
    "X = load_diabetes()['data']\n",
    "y = load_diabetes()['target']"
   ]
  },
  {
   "cell_type": "markdown",
   "metadata": {
    "pycharm": {
     "name": "#%% md\n"
    }
   },
   "source": [
    "# Validation scheme"
   ]
  },
  {
   "cell_type": "code",
   "execution_count": 5,
   "metadata": {
    "scrolled": true,
    "pycharm": {
     "name": "#%%\n"
    }
   },
   "outputs": [],
   "source": [
    "kf = KFold(n_splits=5, random_state=random_state, shuffle=True)\n",
    "cv_list = list(kf.split(X))"
   ]
  },
  {
   "cell_type": "markdown",
   "metadata": {
    "pycharm": {
     "name": "#%% md\n"
    }
   },
   "source": [
    "# Example of model training and logging"
   ]
  },
  {
   "cell_type": "code",
   "execution_count": 6,
   "metadata": {
    "pycharm": {
     "name": "#%%\n"
    }
   },
   "outputs": [],
   "source": [
    "# Function which returns set of parameters\n",
    "def params_func(trial):\n",
    "    return (\n",
    "        {\n",
    "            'model_params': {'objective': trial.suggest_categorical('objective', ['huber', 'fair', 'l2', 'l1', 'mape']),\n",
    "                             'boosting': trial.suggest_categorical('boosting', ['gbdt', 'dart', 'goss']),\n",
    "                             'n_jobs': -1,\n",
    "                             'n_estimators': 50,\n",
    "                             'random_state': random_state,\n",
    "                             'bagging_fraction': trial.suggest_float('bagging_fraction', 0.01, 1),\n",
    "                             'feature_fraction': trial.suggest_float('feature_fraction', 0.01, 1),\n",
    "                             'min_child_samples': trial.suggest_int('min_child_samples', 2, 256),\n",
    "                             'num_leaves': trial.suggest_int('num_leaves', 2, 256),\n",
    "                             'learning_rate': trial.suggest_float('learning_rate', 0.01, 1.5)},\n",
    "            'lgb_data_set_params': {},\n",
    "\n",
    "        }\n",
    "    )"
   ]
  },
  {
   "cell_type": "code",
   "execution_count": 7,
   "metadata": {
    "pycharm": {
     "name": "#%%\n"
    }
   },
   "outputs": [],
   "source": [
    "from mlexp.trainers import LgbTrainer"
   ]
  },
  {
   "cell_type": "code",
   "execution_count": 8,
   "metadata": {
    "pycharm": {
     "name": "#%%\n"
    }
   },
   "outputs": [],
   "source": [
    "# Init trainer object\n",
    "trainer = LgbTrainer(\n",
    "    # MSE will be used as validation metric\n",
    "    validation_metric=mean_squared_error,\n",
    "    # MSE should be minimised during hyperparameters optimization\n",
    "    direction='minimize',\n",
    "    # Before logging to server files will be saved to /home/logged_files\n",
    "    saved_files_path=r'temp_files/',\n",
    "    # During training model on test fold n_estimators will be set to the mean n_estimators on validation_folds\n",
    "    use_average_n_estimators_on_test_fold=True,\n",
    "    # During hyperparameters' optimization, mean metric on validation fold will be optimized\n",
    "    optimization_metric='metric_mean_cv')"
   ]
  },
  {
   "cell_type": "code",
   "execution_count": 9,
   "metadata": {
    "pycharm": {
     "name": "#%%\n"
    }
   },
   "outputs": [
    {
     "name": "stderr",
     "output_type": "stream",
     "text": [
      "2022/10/03 23:49:41 INFO mlflow.tracking.fluent: Experiment with name 'example_exp' does not exist. Creating a new experiment.\n"
     ]
    }
   ],
   "source": [
    "# Init mlflow run\n",
    "run_id = trainer.init_run(\n",
    "    # Init run on mlflow server\n",
    "    logging_server='mlflow',\n",
    "    # Run will be started in experiment 'example_exp'\n",
    "    experiment_name='example_exp',\n",
    "    # URI of mlflow server (it will be printed in console after starting mlflow server)\n",
    "    tracking_uri='http://127.0.0.1:5000/',\n",
    "    # Let's set run_name to 'Example. LGBM' and add tag Data = sklearn.datasets.oad_diabetes\n",
    "    start_run_params={'run_name': 'Example. LGBM', 'tags': {'Data': 'sklearn.datasets.load_diabetes'}},\n",
    "    # Let's also log example.ipynb to mlflow server\n",
    "    upload_files=['example.ipynb'])"
   ]
  },
  {
   "cell_type": "code",
   "execution_count": 11,
   "metadata": {
    "scrolled": true,
    "pycharm": {
     "name": "#%%\n"
    }
   },
   "outputs": [
    {
     "name": "stderr",
     "output_type": "stream",
     "text": [
      "\u001B[32m[I 2022-10-03 23:49:55,685]\u001B[0m A new study created in memory with name: optuna_study\u001B[0m\n",
      "\u001B[32m[I 2022-10-03 23:49:55,949]\u001B[0m Trial 0 finished with value: 5437.023094610712 and parameters: {'objective': 'huber', 'boosting': 'goss', 'bagging_fraction': 0.4940601862857099, 'feature_fraction': 0.06002537432948098, 'min_child_samples': 139, 'num_leaves': 12, 'learning_rate': 1.2140607335242475}. Best is trial 0 with value: 5437.023094610712.\u001B[0m\n",
      "\u001B[32m[I 2022-10-03 23:49:56,166]\u001B[0m Trial 1 finished with value: 28457.59344352733 and parameters: {'objective': 'huber', 'boosting': 'goss', 'bagging_fraction': 0.0831454234041396, 'feature_fraction': 0.2157826542576255, 'min_child_samples': 207, 'num_leaves': 235, 'learning_rate': 0.2318429220789418}. Best is trial 0 with value: 5437.023094610712.\u001B[0m\n",
      "\u001B[32m[I 2022-10-03 23:49:56,519]\u001B[0m Trial 2 finished with value: 5173.716578485264 and parameters: {'objective': 'huber', 'boosting': 'goss', 'bagging_fraction': 0.18719551926876488, 'feature_fraction': 0.20424035424943685, 'min_child_samples': 119, 'num_leaves': 210, 'learning_rate': 0.9519479286252408}. Best is trial 2 with value: 5173.716578485264.\u001B[0m\n",
      "\u001B[32m[I 2022-10-03 23:49:56,721]\u001B[0m Trial 3 finished with value: 21836.349687180795 and parameters: {'objective': 'l1', 'boosting': 'dart', 'bagging_fraction': 0.8586457711759704, 'feature_fraction': 0.04027914603956824, 'min_child_samples': 217, 'num_leaves': 127, 'learning_rate': 1.2142512243872137}. Best is trial 2 with value: 5173.716578485264.\u001B[0m\n",
      "\u001B[32m[I 2022-10-03 23:49:56,926]\u001B[0m Trial 4 finished with value: 3934.805394807845 and parameters: {'objective': 'fair', 'boosting': 'goss', 'bagging_fraction': 0.6960861282854133, 'feature_fraction': 0.8128374954942446, 'min_child_samples': 125, 'num_leaves': 10, 'learning_rate': 0.16533492047089474}. Best is trial 4 with value: 3934.805394807845.\u001B[0m\n",
      "\u001B[32m[I 2022-10-03 23:49:57,336]\u001B[0m Trial 5 finished with value: 4088.5703389649334 and parameters: {'objective': 'l1', 'boosting': 'gbdt', 'bagging_fraction': 0.6684139504669778, 'feature_fraction': 0.0584719527168595, 'min_child_samples': 128, 'num_leaves': 84, 'learning_rate': 1.0558084233387413}. Best is trial 4 with value: 3934.805394807845.\u001B[0m\n",
      "\u001B[32m[I 2022-10-03 23:49:57,837]\u001B[0m Trial 6 finished with value: 3444.995010553807 and parameters: {'objective': 'l2', 'boosting': 'dart', 'bagging_fraction': 0.7465459551390496, 'feature_fraction': 0.8331937516782184, 'min_child_samples': 24, 'num_leaves': 244, 'learning_rate': 0.4580862131183856}. Best is trial 6 with value: 3444.995010553807.\u001B[0m\n",
      "\u001B[32m[I 2022-10-03 23:49:58,135]\u001B[0m Trial 7 finished with value: 5634.6874560425695 and parameters: {'objective': 'huber', 'boosting': 'gbdt', 'bagging_fraction': 0.15825813117996962, 'feature_fraction': 0.025884683542040994, 'min_child_samples': 75, 'num_leaves': 176, 'learning_rate': 0.6202815100924113}. Best is trial 6 with value: 3444.995010553807.\u001B[0m\n",
      "\u001B[32m[I 2022-10-03 23:49:58,379]\u001B[0m Trial 8 finished with value: 5671.102617545375 and parameters: {'objective': 'huber', 'boosting': 'gbdt', 'bagging_fraction': 0.5544357383053703, 'feature_fraction': 0.27497810904257514, 'min_child_samples': 138, 'num_leaves': 17, 'learning_rate': 0.3458576310870677}. Best is trial 6 with value: 3444.995010553807.\u001B[0m\n",
      "\u001B[32m[I 2022-10-03 23:49:58,642]\u001B[0m Trial 9 finished with value: 5132.989672660085 and parameters: {'objective': 'huber', 'boosting': 'gbdt', 'bagging_fraction': 0.9318076997466013, 'feature_fraction': 0.7595413565839362, 'min_child_samples': 104, 'num_leaves': 177, 'learning_rate': 0.6480580184876165}. Best is trial 6 with value: 3444.995010553807.\u001B[0m\n",
      "\u001B[32m[I 2022-10-03 23:49:59,190]\u001B[0m Trial 10 finished with value: 3971.6076456009564 and parameters: {'objective': 'l2', 'boosting': 'dart', 'bagging_fraction': 0.32890201602729097, 'feature_fraction': 0.9835985483917383, 'min_child_samples': 10, 'num_leaves': 251, 'learning_rate': 0.4504897165520259}. Best is trial 6 with value: 3444.995010553807.\u001B[0m\n",
      "\u001B[32m[I 2022-10-03 23:49:59,715]\u001B[0m Trial 11 finished with value: 32258574.05278498 and parameters: {'objective': 'fair', 'boosting': 'dart', 'bagging_fraction': 0.7138697210275263, 'feature_fraction': 0.6770374284414657, 'min_child_samples': 3, 'num_leaves': 70, 'learning_rate': 0.07105027216964302}. Best is trial 6 with value: 3444.995010553807.\u001B[0m\n",
      "\u001B[32m[I 2022-10-03 23:50:00,120]\u001B[0m Trial 12 finished with value: 3569.217103449372 and parameters: {'objective': 'fair', 'boosting': 'goss', 'bagging_fraction': 0.7721441983287889, 'feature_fraction': 0.9986620072703063, 'min_child_samples': 48, 'num_leaves': 118, 'learning_rate': 0.018467870725169533}. Best is trial 6 with value: 3444.995010553807.\u001B[0m\n",
      "\u001B[32m[I 2022-10-03 23:50:00,528]\u001B[0m Trial 13 finished with value: 3441.664696847416 and parameters: {'objective': 'l2', 'boosting': 'dart', 'bagging_fraction': 0.8221057812468033, 'feature_fraction': 0.9980488396506084, 'min_child_samples': 46, 'num_leaves': 127, 'learning_rate': 0.4867595868527736}. Best is trial 13 with value: 3441.664696847416.\u001B[0m\n",
      "\u001B[32m[I 2022-10-03 23:50:00,860]\u001B[0m Trial 14 finished with value: 3723.6544622925458 and parameters: {'objective': 'l2', 'boosting': 'dart', 'bagging_fraction': 0.9806762467956015, 'feature_fraction': 0.560863428892903, 'min_child_samples': 44, 'num_leaves': 173, 'learning_rate': 0.8340961201861197}. Best is trial 13 with value: 3441.664696847416.\u001B[0m\n",
      "\u001B[32m[I 2022-10-03 23:50:01,160]\u001B[0m Trial 15 finished with value: 4755.5870969344405 and parameters: {'objective': 'mape', 'boosting': 'dart', 'bagging_fraction': 0.5367499325446343, 'feature_fraction': 0.8639945496995949, 'min_child_samples': 46, 'num_leaves': 90, 'learning_rate': 0.503402535993188}. Best is trial 13 with value: 3441.664696847416.\u001B[0m\n",
      "\u001B[32m[I 2022-10-03 23:50:01,433]\u001B[0m Trial 16 finished with value: 4049.3857653703435 and parameters: {'objective': 'l2', 'boosting': 'dart', 'bagging_fraction': 0.8530437416210225, 'feature_fraction': 0.5171664686042117, 'min_child_samples': 176, 'num_leaves': 156, 'learning_rate': 1.4101660593634247}. Best is trial 13 with value: 3441.664696847416.\u001B[0m\n",
      "\u001B[32m[I 2022-10-03 23:50:01,721]\u001B[0m Trial 17 finished with value: 3441.6729652408267 and parameters: {'objective': 'l2', 'boosting': 'dart', 'bagging_fraction': 0.3677698017007775, 'feature_fraction': 0.6929378714200047, 'min_child_samples': 81, 'num_leaves': 215, 'learning_rate': 0.7638555884445241}. Best is trial 13 with value: 3441.664696847416.\u001B[0m\n",
      "\u001B[32m[I 2022-10-03 23:50:02,021]\u001B[0m Trial 18 finished with value: 3393.5389853697197 and parameters: {'objective': 'l2', 'boosting': 'dart', 'bagging_fraction': 0.4030800550542788, 'feature_fraction': 0.4021452640008721, 'min_child_samples': 81, 'num_leaves': 212, 'learning_rate': 0.7861663254820528}. Best is trial 18 with value: 3393.5389853697197.\u001B[0m\n",
      "\u001B[32m[I 2022-10-03 23:50:02,337]\u001B[0m Trial 19 finished with value: 4426.228892925482 and parameters: {'objective': 'mape', 'boosting': 'dart', 'bagging_fraction': 0.3652552992345073, 'feature_fraction': 0.41046612922032144, 'min_child_samples': 80, 'num_leaves': 150, 'learning_rate': 0.9154985267253688}. Best is trial 18 with value: 3393.5389853697197.\u001B[0m\n"
     ]
    }
   ],
   "source": [
    "%%capture\n",
    "# Run hyperparameters search and logging\n",
    "sampler = optuna.samplers.TPESampler(seed=random_state)\n",
    "trainer.train(X=X,\n",
    "              y=y,\n",
    "              cv=cv_list,\n",
    "              n_trials=20,\n",
    "              params_func=params_func,\n",
    "              sampler=sampler)"
   ]
  },
  {
   "cell_type": "markdown",
   "source": [
    "# Example of inference"
   ],
   "metadata": {
    "collapsed": false,
    "pycharm": {
     "name": "#%% md\n"
    }
   }
  },
  {
   "cell_type": "code",
   "execution_count": 12,
   "outputs": [],
   "source": [
    "from mlexp.inference import LgbInference"
   ],
   "metadata": {
    "collapsed": false,
    "pycharm": {
     "name": "#%%\n"
    }
   }
  },
  {
   "cell_type": "code",
   "execution_count": 13,
   "outputs": [],
   "source": [
    "step = 'best'\n",
    "fold_num = 'test'\n",
    "trained_model = True"
   ],
   "metadata": {
    "collapsed": false,
    "pycharm": {
     "name": "#%%\n"
    }
   }
  },
  {
   "cell_type": "code",
   "execution_count": 14,
   "outputs": [
    {
     "name": "stdout",
     "output_type": "stream",
     "text": [
      "{'direction': 'minimize', 'model_type': 'lgb', 'validation_metric': <function mean_squared_error at 0x00000237F8D1AC10>, 'use_average_n_estimators_on_test_fold': 'True', 'step': 18, 'metric': {'metric_mean_cv': 3393.5389853697197}, 'params': {'model_params': {'objective': 'l2', 'boosting': 'dart', 'n_jobs': -1, 'n_estimators': 50, 'random_state': 54321, 'bagging_fraction': 0.4030800550542788, 'feature_fraction': 0.4021452640008721, 'min_child_samples': 81, 'num_leaves': 212, 'learning_rate': 0.7861663254820528}, 'lgb_data_set_params': {}, 'validation_mean_estimators': 50}, 'optuna_study': <optuna.study.study.Study object at 0x00000237816E9CA0>, 'trained_model': <lightgbm.basic.Booster object at 0x00000237827BC4F0>}\n"
     ]
    }
   ],
   "source": [
    "# Initialize inference object\n",
    "inference = LgbInference(downloaded_files_path=r'temp_files/',\n",
    "                         inference_server_params={'tracking_uri': 'http://127.0.0.1:5000/', 'run_id': run_id},\n",
    "                         server='mlflow')\n",
    "print(inference.get_params_model(step=step, fold_num=fold_num, trained_model=trained_model))"
   ],
   "metadata": {
    "collapsed": false,
    "pycharm": {
     "name": "#%%\n"
    }
   }
  }
 ],
 "metadata": {
  "kernelspec": {
   "display_name": "Python 3 (ipykernel)",
   "language": "python",
   "name": "python3"
  },
  "language_info": {
   "codemirror_mode": {
    "name": "ipython",
    "version": 3
   },
   "file_extension": ".py",
   "mimetype": "text/x-python",
   "name": "python",
   "nbconvert_exporter": "python",
   "pygments_lexer": "ipython3",
   "version": "3.9.13"
  },
  "latex_envs": {
   "LaTeX_envs_menu_present": true,
   "autoclose": false,
   "autocomplete": true,
   "bibliofile": "biblio.bib",
   "cite_by": "apalike",
   "current_citInitial": 1,
   "eqLabelWithNumbers": true,
   "eqNumInitial": 1,
   "hotkeys": {
    "equation": "Ctrl-E",
    "itemize": "Ctrl-I"
   },
   "labels_anchors": false,
   "latex_user_defs": false,
   "report_style_numbering": false,
   "user_envs_cfg": false
  },
  "neptune": {
   "notebookId": "d078fd72-8897-418a-8d20-d7b5704f47a1"
  }
 },
 "nbformat": 4,
 "nbformat_minor": 4
}